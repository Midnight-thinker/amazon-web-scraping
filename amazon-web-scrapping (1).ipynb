{
 "cells": [
  {
   "cell_type": "markdown",
   "id": "a3c62449",
   "metadata": {},
   "source": [
    "# Amazon Web Scraping\n",
    "\n",
    "This project scrapes data like the Product title and Price of a product and a timer is set that can provide a time to time data about the product upto the time it is specified! We also provided a feature which will automaically send a mail whenever the price of the product is low or in sale."
   ]
  },
  {
   "cell_type": "markdown",
   "id": "358579cd",
   "metadata": {},
   "source": [
    "### Starting off the project with importing libraries & packages\n",
    "\n",
    "Here the libraries used are - \n",
    "* BeautifulSoup - This library is used for web scraping purposes particularly in python.\n",
    "* requests - The requests library is a popular Python library used for making HTTP requests.\n",
    "* time - The time library is a built-in Python library that provides various functions to manipulate time-related data. \n",
    "* datetime - The datetime library is a built-in Python library that provides classes for working with dates and times.\n",
    "* smtplib - The smtplib library in Python provides a simple way to send email messages over SMTP (Simple Mail Transfer Protocol). "
   ]
  },
  {
   "cell_type": "code",
   "execution_count": 1,
   "id": "42c32906",
   "metadata": {},
   "outputs": [],
   "source": [
    "from bs4 import BeautifulSoup\n",
    "import requests\n",
    "import time\n",
    "import datetime\n",
    "import smtplib"
   ]
  },
  {
   "cell_type": "markdown",
   "id": "47e2a18a",
   "metadata": {},
   "source": [
    "### Extracting the data from source using requests, BeautifulSoup library"
   ]
  },
  {
   "cell_type": "code",
   "execution_count": 2,
   "id": "b313e906",
   "metadata": {},
   "outputs": [
    {
     "name": "stdout",
     "output_type": "stream",
     "text": [
      "\n",
      "              DHRUVI TRENDZ Women's Plain Lycra with Dori Design on Half-Sleeve Regular Fit Office wear,Casual wear Top\n",
      "             \n",
      "\n",
      "                            279\n",
      "                            \n",
      "                             .\n",
      "                            \n",
      "\n"
     ]
    }
   ],
   "source": [
    "URL = \"https://www.amazon.in/DHRUVI-TRENDZ-LooksGud-Regular-Western/dp/B08CB4H8MF/ref=pd_ci_mcx_mh_mcx_views_0?pd_rd_w=IG4mr&content-id=amzn1.sym.7c947cdc-0249-4ded-881f-f826efe2df4c&pf_rd_p=7c947cdc-0249-4ded-881f-f826efe2df4c&pf_rd_r=WF1VG5MBJKNWD5MR815H&pd_rd_wg=ErPzG&pd_rd_r=4441d9f2-670b-4388-9018-b62bf2a2946d&pd_rd_i=B08CB4H8MF&th=1&psc=1\"\n",
    "\n",
    "headers={\"User-Agent\": \"Mozilla/5.0 (Windows NT 10.0; Win64; x64) AppleWebKit/537.36 (KHTML, like Gecko) Chrome/113.0.0.0 Safari/537.36\"}\n",
    "\n",
    "page= requests.get(URL,headers=headers)\n",
    "\n",
    "soup1 = BeautifulSoup(page.content,\"html.parser\")\n",
    "\n",
    "soup2 = BeautifulSoup(soup1.prettify(), \"html.parser\")\n",
    "\n",
    "title = soup2.find(id='productTitle').get_text()\n",
    "\n",
    "price = soup2.find(class_ ='a-price-whole').get_text()\n",
    "\n",
    "\n",
    "print(title)\n",
    "print(price)"
   ]
  },
  {
   "cell_type": "markdown",
   "id": "d2d40a6d",
   "metadata": {},
   "source": [
    "### Using Datetime library to get the date of the day"
   ]
  },
  {
   "cell_type": "code",
   "execution_count": 3,
   "id": "3d1e8c91",
   "metadata": {},
   "outputs": [
    {
     "name": "stdout",
     "output_type": "stream",
     "text": [
      "2023-05-15\n"
     ]
    }
   ],
   "source": [
    "today = datetime.date.today()\n",
    "\n",
    "print(today)"
   ]
  },
  {
   "cell_type": "markdown",
   "id": "4bf60da6",
   "metadata": {},
   "source": [
    "### Using CSV library to provide the headers of each column and to enter the datas and saving it into a CSV file "
   ]
  },
  {
   "cell_type": "code",
   "execution_count": 4,
   "id": "03d86f59",
   "metadata": {},
   "outputs": [],
   "source": [
    "import csv \n",
    "\n",
    "header = ['Title', 'Price', 'Date']\n",
    "data = [title, price, today]\n",
    "\n",
    "\n",
    "with open('AmazonWebScraperDataset.csv', 'w', newline='', encoding='UTF8') as f:\n",
    "    writer = csv.writer(f)\n",
    "    writer.writerow(header)\n",
    "    writer.writerow(data)"
   ]
  },
  {
   "cell_type": "markdown",
   "id": "748b166c",
   "metadata": {},
   "source": [
    "### Extracting the data from CSV file and saving it into a python dataframe "
   ]
  },
  {
   "cell_type": "code",
   "execution_count": 5,
   "id": "57632c02",
   "metadata": {},
   "outputs": [
    {
     "name": "stdout",
     "output_type": "stream",
     "text": [
      "                                               Title  \\\n",
      "0  \\n              DHRUVI TRENDZ Women's Plain Ly...   \n",
      "\n",
      "                                               Price        Date  \n",
      "0  \\n                            279\\n           ...  2023-05-15  \n"
     ]
    }
   ],
   "source": [
    "import pandas as pd\n",
    "\n",
    "df = pd.read_csv(r'C:\\Users\\91943\\AmazonWebScraperDataset.csv')\n",
    "\n",
    "print(df)"
   ]
  },
  {
   "cell_type": "markdown",
   "id": "cb03c862",
   "metadata": {},
   "source": [
    "### Again Updating the data"
   ]
  },
  {
   "cell_type": "code",
   "execution_count": 6,
   "id": "e16dadfb",
   "metadata": {},
   "outputs": [],
   "source": [
    "with open('AmazonWebScraperDataset.csv', 'a+', newline='', encoding='UTF8') as f:\n",
    "    writer = csv.writer(f)\n",
    "    writer.writerow(data)"
   ]
  },
  {
   "cell_type": "markdown",
   "id": "87b6c9b0",
   "metadata": {},
   "source": [
    "### Putting all the steps under one function `check_price()`"
   ]
  },
  {
   "cell_type": "code",
   "execution_count": 7,
   "id": "c404f31f",
   "metadata": {},
   "outputs": [],
   "source": [
    "def check_price():\n",
    "    URL = \"https://www.amazon.in/DHRUVI-TRENDZ-LooksGud-Regular-Western/dp/B08CB4H8MF/ref=pd_ci_mcx_mh_mcx_views_0?pd_rd_w=IG4mr&content-id=amzn1.sym.7c947cdc-0249-4ded-881f-f826efe2df4c&pf_rd_p=7c947cdc-0249-4ded-881f-f826efe2df4c&pf_rd_r=WF1VG5MBJKNWD5MR815H&pd_rd_wg=ErPzG&pd_rd_r=4441d9f2-670b-4388-9018-b62bf2a2946d&pd_rd_i=B08CB4H8MF&th=1&psc=1\"\n",
    "\n",
    "    headers={\"User-Agent\": \"Mozilla/5.0 (Windows NT 10.0; Win64; x64) AppleWebKit/537.36 (KHTML, like Gecko) Chrome/113.0.0.0 Safari/537.36\"}\n",
    "\n",
    "    page = requests.get(URL, headers=headers)\n",
    "\n",
    "    soup1 = BeautifulSoup(page.content, \"html.parser\")\n",
    "\n",
    "    soup2 = BeautifulSoup(soup1.prettify(), \"html.parser\")\n",
    "\n",
    "    title = soup2.find(id='productTitle').get_text()\n",
    "\n",
    "    price = soup2.find(class_ ='a-price-whole').get_text()\n",
    "\n",
    "    today = datetime.date.today()\n",
    "    \n",
    "    import csv \n",
    "\n",
    "    header = ['Title', 'Price', 'Date']\n",
    "    data = [title, price, today]\n",
    "\n",
    "    with open('AmazonWebScraperDataset.csv', 'a+', newline='', encoding='UTF8') as f:\n",
    "        writer = csv.writer(f)\n",
    "        writer.writerow(data)\n",
    "        \n",
    "    if(price < '200'):\n",
    "        send_mail()\n",
    "        \n",
    " "
   ]
  },
  {
   "cell_type": "markdown",
   "id": "12da0dff",
   "metadata": {},
   "source": [
    "### Setting the timer"
   ]
  },
  {
   "cell_type": "code",
   "execution_count": null,
   "id": "d96471f7",
   "metadata": {},
   "outputs": [],
   "source": [
    "while(True):\n",
    "    check_price()\n",
    "    time.sleep(24)\n"
   ]
  },
  {
   "cell_type": "markdown",
   "id": "13af82e7",
   "metadata": {},
   "source": [
    "### Showing the ultimate dataframe"
   ]
  },
  {
   "cell_type": "code",
   "execution_count": 8,
   "id": "39f65b40",
   "metadata": {},
   "outputs": [
    {
     "name": "stdout",
     "output_type": "stream",
     "text": [
      "                                               Title  \\\n",
      "0  \\n              DHRUVI TRENDZ Women's Plain Ly...   \n",
      "1  \\n              DHRUVI TRENDZ Women's Plain Ly...   \n",
      "\n",
      "                                               Price        Date  \n",
      "0  \\n                            279\\n           ...  2023-05-15  \n",
      "1  \\n                            279\\n           ...  2023-05-15  \n"
     ]
    }
   ],
   "source": [
    "df = pd.read_csv(r'C:\\Users\\91943\\AmazonWebScraperDataset.csv')\n",
    "\n",
    "print(df)"
   ]
  },
  {
   "cell_type": "markdown",
   "id": "2685e649",
   "metadata": {},
   "source": [
    "### Sending the mail for sale"
   ]
  },
  {
   "cell_type": "code",
   "execution_count": 9,
   "id": "ccced44e",
   "metadata": {},
   "outputs": [],
   "source": [
    "def send_mail():\n",
    "    server = smtplib.SMTP_SSL('smtp.gmail.com',465)\n",
    "    server.ehlo()\n",
    "    server.ehlo()\n",
    "    server.login('debasmitac73@gmail.com','XXXXXXXXXXx')\n",
    "    \n",
    "    subject = \"The Shirt you want is below Rs.200! Now is your chance to buy!\"\n",
    "    body = \"Debasmita, This is the moment we have been waiting for. Now is your chance to pick up the shirt of your dreams. Don't mess it up! Link here: https://www.amazon.com/Funny-Data-Systems-Business-Analyst/dp/B07FNW9FGJ/ref=sr_1_3?dchild=1&keywords=data+analyst+tshirt&qid=1626655184&sr=8-3\"\n",
    "   \n",
    "    msg = f\"Subject: {subject}\\n\\n{body}\"\n",
    "    \n",
    "    server.sendmail(\n",
    "        'debasmitac73@gmail.com',\n",
    "        msg\n",
    "     \n",
    "    )"
   ]
  }
 ],
 "metadata": {
  "kernelspec": {
   "display_name": "Python 3 (ipykernel)",
   "language": "python",
   "name": "python3"
  },
  "language_info": {
   "codemirror_mode": {
    "name": "ipython",
    "version": 3
   },
   "file_extension": ".py",
   "mimetype": "text/x-python",
   "name": "python",
   "nbconvert_exporter": "python",
   "pygments_lexer": "ipython3",
   "version": "3.10.9"
  }
 },
 "nbformat": 4,
 "nbformat_minor": 5
}
